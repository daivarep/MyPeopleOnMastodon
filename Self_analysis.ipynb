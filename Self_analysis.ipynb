{
 "cells": [
  {
   "cell_type": "code",
   "execution_count": 1,
   "id": "b89c8cf7",
   "metadata": {},
   "outputs": [],
   "source": [
    "import tweepy\n",
    "import pandas as pd\n",
    "import json"
   ]
  },
  {
   "cell_type": "code",
   "execution_count": 3,
   "id": "8c9020eb",
   "metadata": {},
   "outputs": [],
   "source": [
    "mykeys = pd.read_csv('TwitterData.csv') # location of keys\n",
    "consumer_key = mykeys['Keys'][0]\n",
    "consumer_key_secret = mykeys['Keys'][1]\n",
    "access_token = mykeys['Keys'][2]\n",
    "access_token_secret = mykeys['Keys'][3]"
   ]
  },
  {
   "cell_type": "code",
   "execution_count": 4,
   "id": "2105113a",
   "metadata": {},
   "outputs": [],
   "source": [
    "auth = tweepy.OAuthHandler(consumer_key, consumer_key_secret)\n",
    "auth.set_access_token(access_token, access_token_secret)\n",
    "api = tweepy.API(auth, retry_delay=5, wait_on_rate_limit=True)"
   ]
  },
  {
   "cell_type": "code",
   "execution_count": 18,
   "id": "65bb545f",
   "metadata": {},
   "outputs": [],
   "source": [
    "friends_list = []\n",
    "# This is the fastest way to collect all followees / 'friends'\n",
    "try:\n",
    "    for friend in tweepy.Cursor(api.get_friend_ids, screen_name=\"daiva_hadiva\").items():\n",
    "        friends_list.append(friend)\n",
    "except:\n",
    "    print(\": There is a problem with this user\")"
   ]
  },
  {
   "cell_type": "code",
   "execution_count": 36,
   "id": "0c49e817",
   "metadata": {},
   "outputs": [
    {
     "data": {
      "text/plain": [
       "1608"
      ]
     },
     "execution_count": 36,
     "metadata": {},
     "output_type": "execute_result"
    }
   ],
   "source": [
    "len(friends_list)"
   ]
  },
  {
   "cell_type": "code",
   "execution_count": 44,
   "id": "f8cb960e",
   "metadata": {},
   "outputs": [],
   "source": [
    "handles = []\n",
    "descriptions = []"
   ]
  },
  {
   "cell_type": "code",
   "execution_count": 56,
   "id": "f2f0a219",
   "metadata": {},
   "outputs": [],
   "source": [
    "for u in friends_list:\n",
    "    user = api.get_user(user_id=u)\n",
    "    handles.append(user.screen_name)\n",
    "    descriptions.append(user.description)"
   ]
  },
  {
   "cell_type": "code",
   "execution_count": 60,
   "id": "9e3e0123",
   "metadata": {},
   "outputs": [],
   "source": [
    "ifollow = pd.DataFrame(columns=['Screen_name','Description'])\n",
    "ifollow[\"Screen_name\"] = handles\n",
    "ifollow[\"Description\"] = descriptions"
   ]
  },
  {
   "cell_type": "code",
   "execution_count": 58,
   "id": "52a3cba6",
   "metadata": {},
   "outputs": [
    {
     "data": {
      "text/plain": [
       "Screen_name    1608\n",
       "Description    1608\n",
       "dtype: int64"
      ]
     },
     "execution_count": 58,
     "metadata": {},
     "output_type": "execute_result"
    }
   ],
   "source": [
    "ifollow.count() # must match len(friends_list)"
   ]
  },
  {
   "cell_type": "code",
   "execution_count": 61,
   "id": "ee6af15c",
   "metadata": {},
   "outputs": [],
   "source": [
    "onmstdn = ifollow[ifollow[\"Description\"].str.contains(\"astodon\")] # some may not capitalise 'Mastodon'"
   ]
  },
  {
   "cell_type": "code",
   "execution_count": 63,
   "id": "489fd777",
   "metadata": {},
   "outputs": [
    {
     "data": {
      "text/plain": [
       "Screen_name    43\n",
       "Description    43\n",
       "dtype: int64"
      ]
     },
     "execution_count": 63,
     "metadata": {},
     "output_type": "execute_result"
    }
   ],
   "source": [
    "onmstdn.count() # users with Mastodon handle in their description"
   ]
  },
  {
   "cell_type": "code",
   "execution_count": 64,
   "id": "080af5cd",
   "metadata": {},
   "outputs": [],
   "source": [
    "onmstdn2 = ifollow[ifollow[\"Screen_name\"].str.contains(\"astodon\")]"
   ]
  },
  {
   "cell_type": "code",
   "execution_count": 66,
   "id": "e15c9d59",
   "metadata": {},
   "outputs": [
    {
     "data": {
      "text/plain": [
       "Screen_name    0\n",
       "Description    0\n",
       "dtype: int64"
      ]
     },
     "execution_count": 66,
     "metadata": {},
     "output_type": "execute_result"
    }
   ],
   "source": [
    "onmstdn2.count() # users with Mastodon handle in their Twitter handle"
   ]
  },
  {
   "cell_type": "code",
   "execution_count": 67,
   "id": "43c14c9e",
   "metadata": {},
   "outputs": [],
   "source": [
    "ifollow.to_csv('whoifollow.csv')\n",
    "onmstdn.to_csv('onmstdn.csv')"
   ]
  },
  {
   "cell_type": "code",
   "execution_count": null,
   "id": "30d3180b",
   "metadata": {},
   "outputs": [],
   "source": []
  }
 ],
 "metadata": {
  "kernelspec": {
   "display_name": "Python 3 (ipykernel)",
   "language": "python",
   "name": "python3"
  },
  "language_info": {
   "codemirror_mode": {
    "name": "ipython",
    "version": 3
   },
   "file_extension": ".py",
   "mimetype": "text/x-python",
   "name": "python",
   "nbconvert_exporter": "python",
   "pygments_lexer": "ipython3",
   "version": "3.9.10+"
  }
 },
 "nbformat": 4,
 "nbformat_minor": 5
}
